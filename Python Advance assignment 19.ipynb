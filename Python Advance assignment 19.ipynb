{
 "cells": [
  {
   "cell_type": "raw",
   "id": "c653972f",
   "metadata": {},
   "source": [
    "Q1. Define the relationship between a class and its instances. Is it a one-to-one or a one-to-many\n",
    "partnership, for example?"
   ]
  },
  {
   "cell_type": "raw",
   "id": "a1811ce4",
   "metadata": {},
   "source": [
    "ans: A class is a blueprint which you use to create objects. An object is an instance of a class- it's concreate 'thing' that you made using a specific class. So, 'object and instance are the same thing, but the word instance\n",
    "indicates the relationship of an oject to its class. A single object of a class can access multiple functions defiend in the class in form of in to many relatioships."
   ]
  },
  {
   "cell_type": "code",
   "execution_count": null,
   "id": "3302962e",
   "metadata": {},
   "outputs": [],
   "source": []
  },
  {
   "cell_type": "code",
   "execution_count": null,
   "id": "6aaedf44",
   "metadata": {},
   "outputs": [],
   "source": []
  },
  {
   "cell_type": "raw",
   "id": "1e79b7c7",
   "metadata": {},
   "source": [
    "Q2. What kind of data is held only in an instance?"
   ]
  },
  {
   "cell_type": "raw",
   "id": "a63d6b86",
   "metadata": {},
   "source": [
    "ans: if the value of a variable varies from object to object, then such variable are called instance vaiables. for every object, a seperate copy of the instance variable will be created. instnce variables are not shared by objects."
   ]
  },
  {
   "cell_type": "code",
   "execution_count": null,
   "id": "96ed924b",
   "metadata": {},
   "outputs": [],
   "source": []
  },
  {
   "cell_type": "code",
   "execution_count": null,
   "id": "76551f6c",
   "metadata": {},
   "outputs": [],
   "source": []
  },
  {
   "cell_type": "raw",
   "id": "3ff5568f",
   "metadata": {},
   "source": [
    "Q3. What kind of knowledge is stored in a class?"
   ]
  },
  {
   "cell_type": "raw",
   "id": "331335a3",
   "metadata": {},
   "source": [
    "ans: A class is a user-defined blueprint or prototype from which obects are created. Classes provide a means of bundling data and functionality together. Creating a new class creates a new type of object, allowing new instances of that type to be made."
   ]
  },
  {
   "cell_type": "code",
   "execution_count": null,
   "id": "97feb811",
   "metadata": {},
   "outputs": [],
   "source": []
  },
  {
   "cell_type": "code",
   "execution_count": null,
   "id": "ca1014e0",
   "metadata": {},
   "outputs": [],
   "source": []
  },
  {
   "cell_type": "raw",
   "id": "5b3d57d9",
   "metadata": {},
   "source": [
    "Q4. What exactly is a method, and how is it different from a regular function?"
   ]
  },
  {
   "cell_type": "raw",
   "id": "61e89d45",
   "metadata": {},
   "source": [
    "ans: Methods are associated with the objects of the class belong to. Functions are not associated with any object. Functions operate on the data we pass to them as arguments methods are dependent on the class they belong to."
   ]
  },
  {
   "cell_type": "code",
   "execution_count": null,
   "id": "70d56490",
   "metadata": {},
   "outputs": [],
   "source": []
  },
  {
   "cell_type": "code",
   "execution_count": null,
   "id": "1d68ccfb",
   "metadata": {},
   "outputs": [],
   "source": []
  },
  {
   "cell_type": "raw",
   "id": "ac973c3e",
   "metadata": {},
   "source": [
    "Q5. Is inheritance supported in Python, and if so, what is the syntax?"
   ]
  },
  {
   "cell_type": "raw",
   "id": "0c16c04b",
   "metadata": {},
   "source": [
    "ans: yes"
   ]
  },
  {
   "cell_type": "code",
   "execution_count": 20,
   "id": "8a19d923",
   "metadata": {},
   "outputs": [
    {
     "name": "stdout",
     "output_type": "stream",
     "text": [
      "iNeuron Company was established in 2018\n"
     ]
    }
   ],
   "source": [
    "#single level inheritence\n",
    "class Ineuron:\n",
    "    company_website = 'https://ineuron.ai/'\n",
    "    name = 'iNeuron'\n",
    " \n",
    "    def contact_details(self):\n",
    "        print('Contact us at ', self.company_website)\n",
    " \n",
    " \n",
    "class Datascience(Ineuron):\n",
    "    def __init__(self):\n",
    "        self.year_of_establishment= 2018\n",
    " \n",
    "    def est_details(self):\n",
    "        print('{0} Company was established in {1}'\n",
    "              .format(self.name,self.year_of_establishment))\n",
    " \n",
    " \n",
    "ds = Datascience()\n",
    "ds.est_details()"
   ]
  },
  {
   "cell_type": "code",
   "execution_count": null,
   "id": "9e165b88",
   "metadata": {},
   "outputs": [],
   "source": []
  },
  {
   "cell_type": "code",
   "execution_count": null,
   "id": "53dfde20",
   "metadata": {},
   "outputs": [],
   "source": []
  },
  {
   "cell_type": "raw",
   "id": "4c7398fc",
   "metadata": {},
   "source": [
    "Q6. How much encapsulation (making instance or class variables private) does Python support?"
   ]
  },
  {
   "cell_type": "raw",
   "id": "e61b2369",
   "metadata": {},
   "source": [
    "ans: We can protect variables in the class by marking them privte. To define a private variable we can add two underscores as a prefix at the start of a variable name. Private members are accessible only within the class, and we can't access them directly from the class objects."
   ]
  },
  {
   "cell_type": "code",
   "execution_count": null,
   "id": "3806587f",
   "metadata": {},
   "outputs": [],
   "source": []
  },
  {
   "cell_type": "code",
   "execution_count": null,
   "id": "123ddc72",
   "metadata": {},
   "outputs": [],
   "source": []
  },
  {
   "cell_type": "raw",
   "id": "d1fc3a6e",
   "metadata": {},
   "source": [
    "Q7. How do you distinguish between a class variable and an instance variable?"
   ]
  },
  {
   "cell_type": "raw",
   "id": "d4a4e564",
   "metadata": {},
   "source": [
    "ans: Class variable: it usually maintains a single shared valuw for all instances of class even if no instance object of the class exists.\n",
    "\n",
    "instance Variable: It usually reserves memory for data that the class needs."
   ]
  },
  {
   "cell_type": "code",
   "execution_count": null,
   "id": "d65df8f7",
   "metadata": {},
   "outputs": [],
   "source": []
  },
  {
   "cell_type": "code",
   "execution_count": null,
   "id": "1f3a8609",
   "metadata": {},
   "outputs": [],
   "source": []
  },
  {
   "cell_type": "raw",
   "id": "1d91e56e",
   "metadata": {},
   "source": [
    "Q8. When, if ever, can self be included in a class's method definitions?"
   ]
  },
  {
   "cell_type": "raw",
   "id": "57668a41",
   "metadata": {},
   "source": [
    "ans: Self is always pointing  to current object."
   ]
  },
  {
   "cell_type": "code",
   "execution_count": null,
   "id": "37f6a63e",
   "metadata": {},
   "outputs": [],
   "source": []
  },
  {
   "cell_type": "code",
   "execution_count": null,
   "id": "36cb66b8",
   "metadata": {},
   "outputs": [],
   "source": []
  },
  {
   "cell_type": "raw",
   "id": "34c5de43",
   "metadata": {},
   "source": [
    "Q9. What is the difference between the _ _add_ _ and the _ _radd_ _ methods?"
   ]
  },
  {
   "cell_type": "code",
   "execution_count": 5,
   "id": "46486ac9",
   "metadata": {},
   "outputs": [
    {
     "name": "stdout",
     "output_type": "stream",
     "text": [
      "add 70 <__main__.division1 object at 0x7fae0baa32e0>\n",
      "add 99 70\n",
      "169\n"
     ]
    }
   ],
   "source": [
    "class division1:\n",
    "    def __init__(self, value):\n",
    "        self.value = value\n",
    "    def __add__(self,other):\n",
    "        print('add', self.value,other)\n",
    "        return other + self.value\n",
    "    \n",
    "    \n",
    "x = division1(70)\n",
    "y = division1(99)\n",
    "\n",
    "print(x + y)"
   ]
  },
  {
   "cell_type": "code",
   "execution_count": null,
   "id": "442640c1",
   "metadata": {},
   "outputs": [],
   "source": []
  },
  {
   "cell_type": "code",
   "execution_count": null,
   "id": "dc2b3ccf",
   "metadata": {},
   "outputs": [],
   "source": []
  },
  {
   "cell_type": "raw",
   "id": "7b16e9c1",
   "metadata": {},
   "source": [
    "Q10. When is it necessary to use a reflection method? When do you not need it, even though you\n",
    "support the operation in question?"
   ]
  },
  {
   "cell_type": "raw",
   "id": "42243ac7",
   "metadata": {},
   "source": [
    "ans: Reflection refers to the ability for code to be able to examine attributes about objects that might be passed as parameters to a function. For example, if we write type(object) then python will return an object which represents the type  of object we need it to refelct the behaiviour of data being holded."
   ]
  },
  {
   "cell_type": "code",
   "execution_count": null,
   "id": "4c1f24b8",
   "metadata": {},
   "outputs": [],
   "source": []
  },
  {
   "cell_type": "code",
   "execution_count": null,
   "id": "34d8fbf3",
   "metadata": {},
   "outputs": [],
   "source": []
  },
  {
   "cell_type": "raw",
   "id": "20b831e1",
   "metadata": {},
   "source": [
    "Q11. What is the _ _iadd_ _ method called?"
   ]
  },
  {
   "cell_type": "code",
   "execution_count": 30,
   "id": "e452d8e4",
   "metadata": {},
   "outputs": [
    {
     "name": "stdout",
     "output_type": "stream",
     "text": [
      "0\n",
      "0\n",
      "2\n"
     ]
    }
   ],
   "source": [
    "class NumString:\n",
    "\n",
    "    def __init__(self, value):\n",
    "        self.value = str(value)\n",
    "\n",
    "    def __int__(self):\n",
    "        return int(self.value)\n",
    "\n",
    "    def __str__(self):\n",
    "        return self.value\n",
    "\n",
    "    def __add__(self, other):\n",
    "        return int(self) + other\n",
    "\n",
    "    def __iadd__(self, other):\n",
    "        self.value = self + other\n",
    "        return self.value\n",
    "\n",
    "some_num1 = NumString(0)\n",
    "print(str(some_num1)) \n",
    "\n",
    "some_num1 + 1\n",
    "print(str(some_num1))\n",
    "\n",
    "some_num1 += 2 \n",
    "print(str(some_num1))\n",
    "\n",
    "     "
   ]
  },
  {
   "cell_type": "code",
   "execution_count": null,
   "id": "933734c5",
   "metadata": {},
   "outputs": [],
   "source": []
  },
  {
   "cell_type": "code",
   "execution_count": null,
   "id": "ae9697f0",
   "metadata": {},
   "outputs": [],
   "source": []
  },
  {
   "cell_type": "raw",
   "id": "2f11f2ae",
   "metadata": {},
   "source": [
    "Q12. Is the _ _init_ _ method inherited by subclasses? What do you do if you need to customize its\n",
    "behavior within a subclass?"
   ]
  },
  {
   "cell_type": "raw",
   "id": "1114e87d",
   "metadata": {},
   "source": [
    "ans: In Python, it is not compulsory that parent class constructor will always be called first. The order in which the init method is called for a parent or a child class can be modified.\n",
    "\n",
    "\n",
    "A subclass can do more than that; it can define a method that has exactly the same method signature(name and  argument types) as a method in its superclass. In that case, the method in the subclass overrides the method in the superclass and effectively replace its implementation."
   ]
  },
  {
   "cell_type": "code",
   "execution_count": null,
   "id": "551596e3",
   "metadata": {},
   "outputs": [],
   "source": []
  },
  {
   "cell_type": "code",
   "execution_count": 29,
   "id": "8c0c9f39",
   "metadata": {},
   "outputs": [
    {
     "name": "stdout",
     "output_type": "stream",
     "text": [
      "0\n",
      "0\n",
      "2\n"
     ]
    }
   ],
   "source": [
    "class NumString:\n",
    "\n",
    "    def __init__(self, value):\n",
    "        self.value = str(value)\n",
    "\n",
    "    def __int__(self):\n",
    "        return int(self.value)\n",
    "\n",
    "    def __str__(self):\n",
    "        return self.value\n",
    "\n",
    "    def __add__(self, other):\n",
    "        return int(self) + other\n",
    "\n",
    "    def __iadd__(self, other):\n",
    "        self.value = self + other\n",
    "        return self.value\n",
    "\n",
    "some_num1 = NumString(0)\n",
    "print(str(some_num1)) \n",
    "\n",
    "some_num1 + 1\n",
    "print(str(some_num1))\n",
    "\n",
    "some_num1 += 2 \n",
    "print(str(some_num1))\n",
    "\n",
    "     "
   ]
  },
  {
   "cell_type": "code",
   "execution_count": null,
   "id": "f7fbc0f1",
   "metadata": {},
   "outputs": [],
   "source": []
  }
 ],
 "metadata": {
  "kernelspec": {
   "display_name": "Python 3",
   "language": "python",
   "name": "python3"
  },
  "language_info": {
   "codemirror_mode": {
    "name": "ipython",
    "version": 3
   },
   "file_extension": ".py",
   "mimetype": "text/x-python",
   "name": "python",
   "nbconvert_exporter": "python",
   "pygments_lexer": "ipython3",
   "version": "3.8.8"
  }
 },
 "nbformat": 4,
 "nbformat_minor": 5
}
